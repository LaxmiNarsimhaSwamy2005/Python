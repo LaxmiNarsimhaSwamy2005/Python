{
 "cells": [
  {
   "cell_type": "code",
   "execution_count": 1,
   "id": "92141dc9-6626-4f74-860f-2aeff04793f7",
   "metadata": {},
   "outputs": [
    {
     "data": {
      "text/plain": [
       "1"
      ]
     },
     "execution_count": 1,
     "metadata": {},
     "output_type": "execute_result"
    }
   ],
   "source": [
    "a=1\n",
    "a"
   ]
  },
  {
   "cell_type": "code",
   "execution_count": 2,
   "id": "27597cd6-999f-49db-b251-d03744486d1f",
   "metadata": {},
   "outputs": [
    {
     "data": {
      "text/plain": [
       "int"
      ]
     },
     "execution_count": 2,
     "metadata": {},
     "output_type": "execute_result"
    }
   ],
   "source": [
    "type(a)"
   ]
  },
  {
   "cell_type": "code",
   "execution_count": 3,
   "id": "9f3a703b-d877-4652-be09-5a9115147053",
   "metadata": {},
   "outputs": [],
   "source": [
    "a=2\n",
    "b=3"
   ]
  },
  {
   "cell_type": "code",
   "execution_count": 4,
   "id": "043231b0-4585-4d6c-be41-08283494eb52",
   "metadata": {},
   "outputs": [
    {
     "data": {
      "text/plain": [
       "True"
      ]
     },
     "execution_count": 4,
     "metadata": {},
     "output_type": "execute_result"
    }
   ],
   "source": [
    "a<b"
   ]
  },
  {
   "cell_type": "code",
   "execution_count": 5,
   "id": "1ba9453e-2779-487a-8314-f3cb59b67e04",
   "metadata": {},
   "outputs": [
    {
     "data": {
      "text/plain": [
       "False"
      ]
     },
     "execution_count": 5,
     "metadata": {},
     "output_type": "execute_result"
    }
   ],
   "source": [
    "a>b"
   ]
  },
  {
   "cell_type": "code",
   "execution_count": 6,
   "id": "74dd1b0a-1739-4925-a9ec-3e2fde180b5f",
   "metadata": {},
   "outputs": [],
   "source": [
    "a=45\n",
    "b=32"
   ]
  },
  {
   "cell_type": "code",
   "execution_count": 7,
   "id": "856cee21-766f-4469-a4db-818ca970d3d9",
   "metadata": {},
   "outputs": [
    {
     "data": {
      "text/plain": [
       "False"
      ]
     },
     "execution_count": 7,
     "metadata": {},
     "output_type": "execute_result"
    }
   ],
   "source": [
    "a<b"
   ]
  },
  {
   "cell_type": "code",
   "execution_count": 8,
   "id": "da63dc57-1add-44de-bcd1-bf5aec11192d",
   "metadata": {},
   "outputs": [
    {
     "data": {
      "text/plain": [
       "True"
      ]
     },
     "execution_count": 8,
     "metadata": {},
     "output_type": "execute_result"
    }
   ],
   "source": [
    "a>b"
   ]
  },
  {
   "cell_type": "code",
   "execution_count": 9,
   "id": "1fd1a051-153d-4555-ade9-b39662e315d5",
   "metadata": {},
   "outputs": [
    {
     "data": {
      "text/plain": [
       "9.5"
      ]
     },
     "execution_count": 9,
     "metadata": {},
     "output_type": "execute_result"
    }
   ],
   "source": [
    "a=9.5\n",
    "a"
   ]
  },
  {
   "cell_type": "code",
   "execution_count": 10,
   "id": "d13f7e93-6ea6-41ad-b15b-2e5f44c974f1",
   "metadata": {},
   "outputs": [
    {
     "data": {
      "text/plain": [
       "float"
      ]
     },
     "execution_count": 10,
     "metadata": {},
     "output_type": "execute_result"
    }
   ],
   "source": [
    "type(a)"
   ]
  },
  {
   "cell_type": "code",
   "execution_count": 11,
   "id": "c8c6ddfa-4800-451e-b56e-15243cf46444",
   "metadata": {},
   "outputs": [],
   "source": [
    "a=45\n",
    "b=32"
   ]
  },
  {
   "cell_type": "code",
   "execution_count": 12,
   "id": "4aca3b91-eb2c-4634-8a60-c89b7af650e4",
   "metadata": {},
   "outputs": [
    {
     "data": {
      "text/plain": [
       "False"
      ]
     },
     "execution_count": 12,
     "metadata": {},
     "output_type": "execute_result"
    }
   ],
   "source": [
    "a<b"
   ]
  },
  {
   "cell_type": "code",
   "execution_count": 13,
   "id": "5b0f3da3-6896-4a41-b890-352989e56135",
   "metadata": {},
   "outputs": [
    {
     "data": {
      "text/plain": [
       "True"
      ]
     },
     "execution_count": 13,
     "metadata": {},
     "output_type": "execute_result"
    }
   ],
   "source": [
    "a>b"
   ]
  },
  {
   "cell_type": "code",
   "execution_count": 14,
   "id": "8e81d73e-e29a-4a75-9349-901f7fd4c6c6",
   "metadata": {},
   "outputs": [
    {
     "data": {
      "text/plain": [
       "True"
      ]
     },
     "execution_count": 14,
     "metadata": {},
     "output_type": "execute_result"
    }
   ],
   "source": [
    "a>=b"
   ]
  },
  {
   "cell_type": "code",
   "execution_count": 15,
   "id": "94256684-3cd0-4ec3-9ee3-63f18b444abd",
   "metadata": {},
   "outputs": [
    {
     "data": {
      "text/plain": [
       "False"
      ]
     },
     "execution_count": 15,
     "metadata": {},
     "output_type": "execute_result"
    }
   ],
   "source": [
    "a==b"
   ]
  },
  {
   "cell_type": "code",
   "execution_count": 16,
   "id": "c13259d7-d858-4ea1-a3d8-5f61612226bb",
   "metadata": {},
   "outputs": [],
   "source": [
    "# logical operators"
   ]
  },
  {
   "cell_type": "code",
   "execution_count": null,
   "id": "92e1b658-f02e-453d-9bff-96629e7cce8f",
   "metadata": {},
   "outputs": [],
   "source": [
    "And\n",
    "\n",
    "Or \n",
    "\n",
    "Not"
   ]
  },
  {
   "cell_type": "code",
   "execution_count": null,
   "id": "85276dbb-cb7a-485a-89d3-0ff478127014",
   "metadata": {},
   "outputs": [],
   "source": [
    "a=50"
   ]
  },
  {
   "cell_type": "code",
   "execution_count": 18,
   "id": "e4d1d1f9-f505-48e5-9e82-be15d7580400",
   "metadata": {},
   "outputs": [],
   "source": [
    "b=45"
   ]
  },
  {
   "cell_type": "code",
   "execution_count": 19,
   "id": "6eebc7a6-85dd-438c-b2f1-b4978b19d1b2",
   "metadata": {},
   "outputs": [
    {
     "data": {
      "text/plain": [
       "False"
      ]
     },
     "execution_count": 19,
     "metadata": {},
     "output_type": "execute_result"
    }
   ],
   "source": [
    "(a>b) and (a>100)"
   ]
  },
  {
   "cell_type": "code",
   "execution_count": 20,
   "id": "e6f7735e-b498-4409-936a-b82ff0a51c17",
   "metadata": {},
   "outputs": [
    {
     "data": {
      "text/plain": [
       "False"
      ]
     },
     "execution_count": 20,
     "metadata": {},
     "output_type": "execute_result"
    }
   ],
   "source": [
    "(a<b) and (a>100)"
   ]
  },
  {
   "cell_type": "code",
   "execution_count": 1,
   "id": "6026fd55-5934-413e-a094-598d3c2bc947",
   "metadata": {},
   "outputs": [
    {
     "data": {
      "text/plain": [
       "[23, 34, 45, 56, 67]"
      ]
     },
     "execution_count": 1,
     "metadata": {},
     "output_type": "execute_result"
    }
   ],
   "source": [
    "a=[ 23,34,45,56,67]\n",
    "a"
   ]
  },
  {
   "cell_type": "code",
   "execution_count": 2,
   "id": "3a2722b6-9626-4dcd-856b-bd520eb06644",
   "metadata": {},
   "outputs": [
    {
     "data": {
      "text/plain": [
       "list"
      ]
     },
     "execution_count": 2,
     "metadata": {},
     "output_type": "execute_result"
    }
   ],
   "source": [
    "type(a)"
   ]
  },
  {
   "cell_type": "code",
   "execution_count": 3,
   "id": "2c46f53f-0a05-415a-80cb-f690797ef1df",
   "metadata": {},
   "outputs": [
    {
     "data": {
      "text/plain": [
       "[203, 'Hyderabad', 45, True, False, 78, 175, 34.9]"
      ]
     },
     "execution_count": 3,
     "metadata": {},
     "output_type": "execute_result"
    }
   ],
   "source": [
    "c=[203, 'Hyderabad',45,True,False,78,175,34.90]\n",
    "c"
   ]
  },
  {
   "cell_type": "code",
   "execution_count": 4,
   "id": "c4b852f8-4840-44a0-b928-a6498b31117d",
   "metadata": {},
   "outputs": [
    {
     "data": {
      "text/plain": [
       "'Hyderabad'"
      ]
     },
     "execution_count": 4,
     "metadata": {},
     "output_type": "execute_result"
    }
   ],
   "source": [
    "c[1]"
   ]
  },
  {
   "cell_type": "code",
   "execution_count": 5,
   "id": "4bd85cdd-1f9e-4198-bbe3-8f2d6c60463e",
   "metadata": {},
   "outputs": [
    {
     "data": {
      "text/plain": [
       "True"
      ]
     },
     "execution_count": 5,
     "metadata": {},
     "output_type": "execute_result"
    }
   ],
   "source": [
    "c[3]"
   ]
  },
  {
   "cell_type": "code",
   "execution_count": 6,
   "id": "6bb6a136-171c-42a4-8319-23dc4af97556",
   "metadata": {},
   "outputs": [
    {
     "data": {
      "text/plain": [
       "78"
      ]
     },
     "execution_count": 6,
     "metadata": {},
     "output_type": "execute_result"
    }
   ],
   "source": [
    "c[5]"
   ]
  },
  {
   "cell_type": "code",
   "execution_count": 7,
   "id": "c49b5f73-1fe2-400a-8ca2-9269539cde72",
   "metadata": {},
   "outputs": [
    {
     "data": {
      "text/plain": [
       "175"
      ]
     },
     "execution_count": 7,
     "metadata": {},
     "output_type": "execute_result"
    }
   ],
   "source": [
    "c[6]"
   ]
  },
  {
   "cell_type": "code",
   "execution_count": 12,
   "id": "8be78706-c787-480e-9027-998fde992d87",
   "metadata": {},
   "outputs": [
    {
     "data": {
      "text/plain": [
       "34.9"
      ]
     },
     "execution_count": 12,
     "metadata": {},
     "output_type": "execute_result"
    }
   ],
   "source": [
    "c[7]"
   ]
  },
  {
   "cell_type": "code",
   "execution_count": 13,
   "id": "b8cfdb2a-2c58-4271-b84b-a4b7c167f707",
   "metadata": {},
   "outputs": [
    {
     "data": {
      "text/plain": [
       "['Hyderabad', 45, True, False]"
      ]
     },
     "execution_count": 13,
     "metadata": {},
     "output_type": "execute_result"
    }
   ],
   "source": [
    "c[1:5]"
   ]
  },
  {
   "cell_type": "code",
   "execution_count": 14,
   "id": "46f2f22c-ff93-4feb-9144-153bc5a57a31",
   "metadata": {},
   "outputs": [
    {
     "data": {
      "text/plain": [
       "[203, 'Hyderabad', 45, True, False, 78, 175, 34.9]"
      ]
     },
     "execution_count": 14,
     "metadata": {},
     "output_type": "execute_result"
    }
   ],
   "source": [
    "c"
   ]
  },
  {
   "cell_type": "code",
   "execution_count": 15,
   "id": "e6636114-da1f-4bbf-88a8-c1a69bbd14ca",
   "metadata": {},
   "outputs": [
    {
     "data": {
      "text/plain": [
       "[203, 'Hyderabad', 45, True, False, 78]"
      ]
     },
     "execution_count": 15,
     "metadata": {},
     "output_type": "execute_result"
    }
   ],
   "source": [
    "c[0:6]"
   ]
  },
  {
   "cell_type": "code",
   "execution_count": 16,
   "id": "ee74bbc9-ed1f-44a4-a452-d0126e14eae8",
   "metadata": {},
   "outputs": [
    {
     "data": {
      "text/plain": [
       "[203, 45, False, 175]"
      ]
     },
     "execution_count": 16,
     "metadata": {},
     "output_type": "execute_result"
    }
   ],
   "source": [
    "c[0::2]"
   ]
  },
  {
   "cell_type": "code",
   "execution_count": 17,
   "id": "ac3c42ab-604a-4494-8dd8-06794f4fb1b1",
   "metadata": {},
   "outputs": [
    {
     "data": {
      "text/plain": [
       "[203, 'Hyderabad', 45, True, False, 78, 175, 34.9]"
      ]
     },
     "execution_count": 17,
     "metadata": {},
     "output_type": "execute_result"
    }
   ],
   "source": [
    "c[0:8:1]"
   ]
  },
  {
   "cell_type": "code",
   "execution_count": 21,
   "id": "5063d2dc-2994-4098-83f8-e4d640af0cb6",
   "metadata": {},
   "outputs": [
    {
     "data": {
      "text/plain": [
       "[203, 45, False, 175]"
      ]
     },
     "execution_count": 21,
     "metadata": {},
     "output_type": "execute_result"
    }
   ],
   "source": [
    "c[0:8:2]"
   ]
  },
  {
   "cell_type": "code",
   "execution_count": 19,
   "id": "94f211ae-b397-49b6-932d-0d35ff8ebcbc",
   "metadata": {},
   "outputs": [
    {
     "data": {
      "text/plain": [
       "[203, 'Hyderabad', 45, True, False, 78, 175, 34.9]"
      ]
     },
     "execution_count": 19,
     "metadata": {},
     "output_type": "execute_result"
    }
   ],
   "source": [
    "c"
   ]
  },
  {
   "cell_type": "code",
   "execution_count": 20,
   "id": "4713f0d2-efed-446d-8f08-d4a5221531f5",
   "metadata": {
    "scrolled": true
   },
   "outputs": [
    {
     "data": {
      "text/plain": [
       "[]"
      ]
     },
     "execution_count": 20,
     "metadata": {},
     "output_type": "execute_result"
    }
   ],
   "source": [
    "c[-4:-8]"
   ]
  },
  {
   "cell_type": "code",
   "execution_count": null,
   "id": "6f15daaa-e3b3-4d21-9499-b8a49ccb7b0b",
   "metadata": {},
   "outputs": [],
   "source": [
    "# list methods"
   ]
  },
  {
   "cell_type": "code",
   "execution_count": null,
   "id": "83064d3d-39a9-4ead-8c19-afa5cf786905",
   "metadata": {},
   "outputs": [],
   "source": [
    "append\n",
    "insert\n",
    "remove\n",
    "pop\n",
    "extend\n",
    "clear\n",
    "count"
   ]
  },
  {
   "cell_type": "code",
   "execution_count": 22,
   "id": "15a1f9a1-d076-4364-88b3-ce7e5a5d53d8",
   "metadata": {},
   "outputs": [
    {
     "data": {
      "text/plain": [
       "[203, 'Hyderabad', 45, True, False, 78, 175, 34.9]"
      ]
     },
     "execution_count": 22,
     "metadata": {},
     "output_type": "execute_result"
    }
   ],
   "source": [
    "c"
   ]
  },
  {
   "cell_type": "code",
   "execution_count": 23,
   "id": "5978de06-c586-4106-85af-1e937a1047cc",
   "metadata": {},
   "outputs": [],
   "source": [
    "c.append(80)"
   ]
  },
  {
   "cell_type": "code",
   "execution_count": 24,
   "id": "b363437d-9cf2-4630-9c50-9fe4dd95660e",
   "metadata": {},
   "outputs": [
    {
     "data": {
      "text/plain": [
       "[203, 'Hyderabad', 45, True, False, 78, 175, 34.9, 80]"
      ]
     },
     "execution_count": 24,
     "metadata": {},
     "output_type": "execute_result"
    }
   ],
   "source": [
    "c"
   ]
  },
  {
   "cell_type": "code",
   "execution_count": 25,
   "id": "3fa84f50-4e3b-452d-88b8-2b948b09ab7e",
   "metadata": {},
   "outputs": [],
   "source": [
    "c.insert(1,90)"
   ]
  },
  {
   "cell_type": "code",
   "execution_count": 26,
   "id": "5cdd279d-aba8-42a4-a328-dd9fba534907",
   "metadata": {},
   "outputs": [
    {
     "data": {
      "text/plain": [
       "[203, 90, 'Hyderabad', 45, True, False, 78, 175, 34.9, 80]"
      ]
     },
     "execution_count": 26,
     "metadata": {},
     "output_type": "execute_result"
    }
   ],
   "source": [
    "c"
   ]
  },
  {
   "cell_type": "code",
   "execution_count": 27,
   "id": "f9880051-fccc-4612-83db-334d88d291ff",
   "metadata": {},
   "outputs": [],
   "source": [
    "c.remove(45)"
   ]
  },
  {
   "cell_type": "code",
   "execution_count": 28,
   "id": "28c63981-3f37-4f16-8437-9affb9210fdc",
   "metadata": {},
   "outputs": [
    {
     "data": {
      "text/plain": [
       "[203, 90, 'Hyderabad', True, False, 78, 175, 34.9, 80]"
      ]
     },
     "execution_count": 28,
     "metadata": {},
     "output_type": "execute_result"
    }
   ],
   "source": [
    "c"
   ]
  },
  {
   "cell_type": "code",
   "execution_count": 29,
   "id": "91b7e9c5-6c43-4f8e-98e9-bce8ee193a72",
   "metadata": {},
   "outputs": [
    {
     "data": {
      "text/plain": [
       "175"
      ]
     },
     "execution_count": 29,
     "metadata": {},
     "output_type": "execute_result"
    }
   ],
   "source": [
    "c.pop(6)"
   ]
  },
  {
   "cell_type": "code",
   "execution_count": 30,
   "id": "939105cf-f57f-47da-8254-04760e8435c8",
   "metadata": {},
   "outputs": [],
   "source": [
    "c.clear()"
   ]
  },
  {
   "cell_type": "code",
   "execution_count": 31,
   "id": "4cc25f87-3467-458b-bca1-456c4f86d6d4",
   "metadata": {},
   "outputs": [
    {
     "data": {
      "text/plain": [
       "[]"
      ]
     },
     "execution_count": 31,
     "metadata": {},
     "output_type": "execute_result"
    }
   ],
   "source": [
    "c"
   ]
  },
  {
   "cell_type": "code",
   "execution_count": 32,
   "id": "5a41dfa8-9895-404d-9db5-29a92fe1e47a",
   "metadata": {},
   "outputs": [
    {
     "data": {
      "text/plain": [
       "list"
      ]
     },
     "execution_count": 32,
     "metadata": {},
     "output_type": "execute_result"
    }
   ],
   "source": [
    "type(c)"
   ]
  },
  {
   "cell_type": "code",
   "execution_count": 33,
   "id": "9c146fed-770a-446e-969a-808180b0f166",
   "metadata": {},
   "outputs": [],
   "source": [
    "del c"
   ]
  },
  {
   "cell_type": "code",
   "execution_count": 34,
   "id": "2f987876-6d38-4dc6-9f72-f5000533b22b",
   "metadata": {},
   "outputs": [
    {
     "ename": "NameError",
     "evalue": "name 'c' is not defined",
     "output_type": "error",
     "traceback": [
      "\u001b[1;31m---------------------------------------------------------------------------\u001b[0m",
      "\u001b[1;31mNameError\u001b[0m                                 Traceback (most recent call last)",
      "Cell \u001b[1;32mIn[34], line 1\u001b[0m\n\u001b[1;32m----> 1\u001b[0m c\n",
      "\u001b[1;31mNameError\u001b[0m: name 'c' is not defined"
     ]
    }
   ],
   "source": [
    "c"
   ]
  },
  {
   "cell_type": "code",
   "execution_count": null,
   "id": "5ff148cf-618b-43e6-8c17-363dfddf8440",
   "metadata": {},
   "outputs": [],
   "source": []
  }
 ],
 "metadata": {
  "kernelspec": {
   "display_name": "Python 3 (ipykernel)",
   "language": "python",
   "name": "python3"
  },
  "language_info": {
   "codemirror_mode": {
    "name": "ipython",
    "version": 3
   },
   "file_extension": ".py",
   "mimetype": "text/x-python",
   "name": "python",
   "nbconvert_exporter": "python",
   "pygments_lexer": "ipython3",
   "version": "3.12.7"
  }
 },
 "nbformat": 4,
 "nbformat_minor": 5
}
