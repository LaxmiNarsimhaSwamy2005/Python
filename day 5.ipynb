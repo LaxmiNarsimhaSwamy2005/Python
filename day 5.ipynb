{
 "cells": [
  {
   "cell_type": "code",
   "execution_count": 2,
   "id": "f8a3337b-1423-444a-901d-a46a8a2ff764",
   "metadata": {},
   "outputs": [
    {
     "data": {
      "text/plain": [
       "{101: 4, 102: 7, 'B': 2}"
      ]
     },
     "execution_count": 2,
     "metadata": {},
     "output_type": "execute_result"
    }
   ],
   "source": [
    "d={ 101: 4, 102: 7,'B': 2}\n",
    "d"
   ]
  },
  {
   "cell_type": "code",
   "execution_count": 6,
   "id": "0750b81a-47e8-4e76-893e-04018d50866d",
   "metadata": {},
   "outputs": [
    {
     "data": {
      "text/plain": [
       "4"
      ]
     },
     "execution_count": 6,
     "metadata": {},
     "output_type": "execute_result"
    }
   ],
   "source": [
    "d[101]"
   ]
  },
  {
   "cell_type": "code",
   "execution_count": 7,
   "id": "9c8c46c9-41e1-4eba-ae9b-91b444fa5147",
   "metadata": {},
   "outputs": [],
   "source": [
    "d[101]=200"
   ]
  },
  {
   "cell_type": "code",
   "execution_count": 8,
   "id": "def1c7e2-f996-41a6-91a1-50b3ccc08b08",
   "metadata": {},
   "outputs": [],
   "source": [
    "d.update({})"
   ]
  },
  {
   "cell_type": "code",
   "execution_count": 9,
   "id": "25b62b7b-010b-44ab-8c76-897acc1356d7",
   "metadata": {},
   "outputs": [
    {
     "data": {
      "text/plain": [
       "{101: 200, 102: 7, 'B': 2}"
      ]
     },
     "execution_count": 9,
     "metadata": {},
     "output_type": "execute_result"
    }
   ],
   "source": [
    "d"
   ]
  },
  {
   "cell_type": "code",
   "execution_count": 10,
   "id": "b3dd16cc-cb5f-4bf5-82fb-45eb88bc9b50",
   "metadata": {},
   "outputs": [],
   "source": [
    "d.update({102:300})"
   ]
  },
  {
   "cell_type": "code",
   "execution_count": 11,
   "id": "08c5e127-b367-4bd6-9dd2-5903272fa8d7",
   "metadata": {},
   "outputs": [
    {
     "data": {
      "text/plain": [
       "{101: 200, 102: 300, 'B': 2}"
      ]
     },
     "execution_count": 11,
     "metadata": {},
     "output_type": "execute_result"
    }
   ],
   "source": [
    "d"
   ]
  },
  {
   "cell_type": "code",
   "execution_count": 12,
   "id": "3b42e76e-a9ea-4ecd-8e4d-007e4e910e41",
   "metadata": {},
   "outputs": [
    {
     "data": {
      "text/plain": [
       "dict_keys([101, 102, 'B'])"
      ]
     },
     "execution_count": 12,
     "metadata": {},
     "output_type": "execute_result"
    }
   ],
   "source": [
    "d.keys()"
   ]
  },
  {
   "cell_type": "code",
   "execution_count": 13,
   "id": "1cb7539a-1186-4db8-bf09-4d92933306cc",
   "metadata": {},
   "outputs": [
    {
     "data": {
      "text/plain": [
       "dict_values([200, 300, 2])"
      ]
     },
     "execution_count": 13,
     "metadata": {},
     "output_type": "execute_result"
    }
   ],
   "source": [
    "d.values()"
   ]
  },
  {
   "cell_type": "code",
   "execution_count": 14,
   "id": "27116cc9-2c2d-4842-9bc8-26e55d64c0a3",
   "metadata": {},
   "outputs": [
    {
     "data": {
      "text/plain": [
       "dict_items([(101, 200), (102, 300), ('B', 2)])"
      ]
     },
     "execution_count": 14,
     "metadata": {},
     "output_type": "execute_result"
    }
   ],
   "source": [
    "d.items()"
   ]
  },
  {
   "cell_type": "code",
   "execution_count": 15,
   "id": "3984a966-a285-4817-a8ee-c2f2c92b7ec7",
   "metadata": {},
   "outputs": [],
   "source": [
    "d.update({102: 'India'})"
   ]
  },
  {
   "cell_type": "code",
   "execution_count": 16,
   "id": "42578b6d-23a3-4964-9381-8e2ec36fc17b",
   "metadata": {},
   "outputs": [
    {
     "data": {
      "text/plain": [
       "{101: 200, 102: 'India', 'B': 2}"
      ]
     },
     "execution_count": 16,
     "metadata": {},
     "output_type": "execute_result"
    }
   ],
   "source": [
    "d"
   ]
  },
  {
   "cell_type": "code",
   "execution_count": 17,
   "id": "5930020b-bbcf-4b04-bae8-962c67860662",
   "metadata": {},
   "outputs": [],
   "source": [
    "del d[102]"
   ]
  },
  {
   "cell_type": "code",
   "execution_count": 18,
   "id": "8361e360-bc6f-42e8-b4ec-d98875c84991",
   "metadata": {},
   "outputs": [
    {
     "data": {
      "text/plain": [
       "{101: 200, 'B': 2}"
      ]
     },
     "execution_count": 18,
     "metadata": {},
     "output_type": "execute_result"
    }
   ],
   "source": [
    "d"
   ]
  },
  {
   "cell_type": "code",
   "execution_count": 19,
   "id": "9095c89c-6b2b-4704-ad3a-42af81823b12",
   "metadata": {},
   "outputs": [],
   "source": [
    "d.update({102 : '600'})"
   ]
  },
  {
   "cell_type": "code",
   "execution_count": 20,
   "id": "0d9a2ae6-147f-444a-8d9a-92eee3c060e7",
   "metadata": {},
   "outputs": [
    {
     "data": {
      "text/plain": [
       "{101: 200, 'B': 2, 102: '600'}"
      ]
     },
     "execution_count": 20,
     "metadata": {},
     "output_type": "execute_result"
    }
   ],
   "source": [
    "d"
   ]
  },
  {
   "cell_type": "code",
   "execution_count": 21,
   "id": "5c304c6d-116e-44de-9958-939690757ea1",
   "metadata": {},
   "outputs": [
    {
     "data": {
      "text/plain": [
       "200"
      ]
     },
     "execution_count": 21,
     "metadata": {},
     "output_type": "execute_result"
    }
   ],
   "source": [
    "d.get(101)"
   ]
  },
  {
   "cell_type": "code",
   "execution_count": 22,
   "id": "af9772f3-06cf-4da7-8aed-beeb77ad9250",
   "metadata": {},
   "outputs": [
    {
     "data": {
      "text/plain": [
       "'600'"
      ]
     },
     "execution_count": 22,
     "metadata": {},
     "output_type": "execute_result"
    }
   ],
   "source": [
    "d.get(102)"
   ]
  },
  {
   "cell_type": "code",
   "execution_count": 23,
   "id": "18b62e0e-d890-4c74-9d63-beabd4006429",
   "metadata": {},
   "outputs": [
    {
     "data": {
      "text/plain": [
       "{101: 200, 'B': 2, 102: '600'}"
      ]
     },
     "execution_count": 23,
     "metadata": {},
     "output_type": "execute_result"
    }
   ],
   "source": [
    "d"
   ]
  },
  {
   "cell_type": "code",
   "execution_count": 24,
   "id": "f8b79cca-b36d-4f25-8100-596106ed1c51",
   "metadata": {},
   "outputs": [],
   "source": [
    "d[104]= [1000,5000,6000,7000]"
   ]
  },
  {
   "cell_type": "code",
   "execution_count": 25,
   "id": "0a418354-294b-43f6-a37d-a7e3da9e59e1",
   "metadata": {},
   "outputs": [
    {
     "data": {
      "text/plain": [
       "{101: 200, 'B': 2, 102: '600', 104: [1000, 5000, 6000, 7000]}"
      ]
     },
     "execution_count": 25,
     "metadata": {},
     "output_type": "execute_result"
    }
   ],
   "source": [
    "d"
   ]
  },
  {
   "cell_type": "code",
   "execution_count": 26,
   "id": "fbfd74dd-93ef-4560-997c-0d23d7e704bb",
   "metadata": {},
   "outputs": [
    {
     "data": {
      "text/plain": [
       "dict"
      ]
     },
     "execution_count": 26,
     "metadata": {},
     "output_type": "execute_result"
    }
   ],
   "source": [
    "type(d)"
   ]
  },
  {
   "cell_type": "code",
   "execution_count": 27,
   "id": "73532a9b-c850-4178-bf2f-625ffc6193c0",
   "metadata": {},
   "outputs": [
    {
     "data": {
      "text/plain": [
       "'600'"
      ]
     },
     "execution_count": 27,
     "metadata": {},
     "output_type": "execute_result"
    }
   ],
   "source": [
    "d[102]"
   ]
  },
  {
   "cell_type": "code",
   "execution_count": 28,
   "id": "0bf7de0f-cc86-4355-ae72-c4742b93b74c",
   "metadata": {},
   "outputs": [
    {
     "data": {
      "text/plain": [
       "str"
      ]
     },
     "execution_count": 28,
     "metadata": {},
     "output_type": "execute_result"
    }
   ],
   "source": [
    "type(d[102])"
   ]
  },
  {
   "cell_type": "code",
   "execution_count": 30,
   "id": "10ee9e24-0a59-4f5d-977f-0de96565043a",
   "metadata": {},
   "outputs": [
    {
     "data": {
      "text/plain": [
       "list"
      ]
     },
     "execution_count": 30,
     "metadata": {},
     "output_type": "execute_result"
    }
   ],
   "source": [
    "type(d[104])"
   ]
  },
  {
   "cell_type": "code",
   "execution_count": 31,
   "id": "074ab951-0e09-4c9a-bf48-4a04a83e7e73",
   "metadata": {},
   "outputs": [],
   "source": [
    "a='india'"
   ]
  },
  {
   "cell_type": "code",
   "execution_count": 32,
   "id": "3d7aeaba-cb36-432c-90e3-3678f0bfa9f9",
   "metadata": {},
   "outputs": [
    {
     "data": {
      "text/plain": [
       "'india'"
      ]
     },
     "execution_count": 32,
     "metadata": {},
     "output_type": "execute_result"
    }
   ],
   "source": [
    "a"
   ]
  },
  {
   "cell_type": "code",
   "execution_count": 33,
   "id": "91d088b8-12f3-4b1a-a504-aebafd2ba278",
   "metadata": {},
   "outputs": [
    {
     "data": {
      "text/plain": [
       "'INDIA'"
      ]
     },
     "execution_count": 33,
     "metadata": {},
     "output_type": "execute_result"
    }
   ],
   "source": [
    "a.upper()"
   ]
  },
  {
   "cell_type": "code",
   "execution_count": 34,
   "id": "7680b366-5fc5-4aac-8b22-9994dcf01023",
   "metadata": {},
   "outputs": [
    {
     "data": {
      "text/plain": [
       "False"
      ]
     },
     "execution_count": 34,
     "metadata": {},
     "output_type": "execute_result"
    }
   ],
   "source": [
    "a.isdigit()"
   ]
  },
  {
   "cell_type": "code",
   "execution_count": 35,
   "id": "80d03ce4-a746-4e16-a4f1-0157589ea79a",
   "metadata": {},
   "outputs": [],
   "source": [
    "d[104].insert(2,5500)"
   ]
  },
  {
   "cell_type": "code",
   "execution_count": 36,
   "id": "a1fcfdb0-1df1-43a9-9434-f08b083a8ee7",
   "metadata": {},
   "outputs": [
    {
     "data": {
      "text/plain": [
       "{101: 200, 'B': 2, 102: '600', 104: [1000, 5000, 5500, 6000, 7000]}"
      ]
     },
     "execution_count": 36,
     "metadata": {},
     "output_type": "execute_result"
    }
   ],
   "source": [
    "d"
   ]
  },
  {
   "cell_type": "code",
   "execution_count": 37,
   "id": "73e39cce-659c-42e6-88af-d16792205bf8",
   "metadata": {},
   "outputs": [],
   "source": [
    "d[101]={50:[7,8,9,10],'apple':(20,10,70,[90,180,270])}"
   ]
  },
  {
   "cell_type": "code",
   "execution_count": 38,
   "id": "3ce5ab3b-8116-475d-a4f2-af269eaa7b2b",
   "metadata": {},
   "outputs": [
    {
     "data": {
      "text/plain": [
       "{101: {50: [7, 8, 9, 10], 'apple': (20, 10, 70, [90, 180, 270])},\n",
       " 'B': 2,\n",
       " 102: '600',\n",
       " 104: [1000, 5000, 5500, 6000, 7000]}"
      ]
     },
     "execution_count": 38,
     "metadata": {},
     "output_type": "execute_result"
    }
   ],
   "source": [
    "d"
   ]
  },
  {
   "cell_type": "code",
   "execution_count": 41,
   "id": "5acc0d5d-e2c2-4c63-9ac7-f7cf1ef8bfc5",
   "metadata": {},
   "outputs": [],
   "source": [
    "d[105]={'a':{30,50,70}, 'b':(1000,5000,7000,9000),'c':['K',{'L':[11,22],'M':(77,88)},'N']}"
   ]
  },
  {
   "cell_type": "code",
   "execution_count": 42,
   "id": "bb213c1d-e94e-4235-8818-1a7d9bf6e869",
   "metadata": {},
   "outputs": [
    {
     "data": {
      "text/plain": [
       "{101: {50: [7, 8, 9, 10], 'apple': (20, 10, 70, [90, 180, 270])},\n",
       " 'B': 2,\n",
       " 102: '600',\n",
       " 104: [1000, 5000, 5500, 6000, 7000],\n",
       " 105: {'a': {30, 50, 70},\n",
       "  'b': (1000, 5000, 7000, 9000),\n",
       "  'c': ['K', {'L': [11, 22], 'M': (77, 88)}, 'N']}}"
      ]
     },
     "execution_count": 42,
     "metadata": {},
     "output_type": "execute_result"
    }
   ],
   "source": [
    "d"
   ]
  },
  {
   "cell_type": "code",
   "execution_count": 43,
   "id": "fe7c1c16-e26d-4d0e-9176-af2c96506b49",
   "metadata": {},
   "outputs": [
    {
     "data": {
      "text/plain": [
       "{101: {50: [7, 8, 9, 10], 'apple': (20, 10, 70, [90, 180, 270])},\n",
       " 'B': 2,\n",
       " 102: '600',\n",
       " 104: [1000, 5000, 5500, 6000, 7000],\n",
       " 105: {'a': {30, 50, 70},\n",
       "  'b': (1000, 5000, 7000, 9000),\n",
       "  'c': ['K', {'L': [11, 22], 'M': (77, 88)}, 'N']}}"
      ]
     },
     "execution_count": 43,
     "metadata": {},
     "output_type": "execute_result"
    }
   ],
   "source": [
    "d"
   ]
  },
  {
   "cell_type": "code",
   "execution_count": 44,
   "id": "2cfa20eb-77ce-4617-a3bf-064c93b93c2a",
   "metadata": {},
   "outputs": [
    {
     "data": {
      "text/plain": [
       "180"
      ]
     },
     "execution_count": 44,
     "metadata": {},
     "output_type": "execute_result"
    }
   ],
   "source": [
    "d[101]['apple'][3][1]"
   ]
  },
  {
   "cell_type": "code",
   "execution_count": null,
   "id": "768819b6-53d7-420a-bce0-6381a21ff7d2",
   "metadata": {},
   "outputs": [],
   "source": []
  }
 ],
 "metadata": {
  "kernelspec": {
   "display_name": "Python 3 (ipykernel)",
   "language": "python",
   "name": "python3"
  },
  "language_info": {
   "codemirror_mode": {
    "name": "ipython",
    "version": 3
   },
   "file_extension": ".py",
   "mimetype": "text/x-python",
   "name": "python",
   "nbconvert_exporter": "python",
   "pygments_lexer": "ipython3",
   "version": "3.12.7"
  }
 },
 "nbformat": 4,
 "nbformat_minor": 5
}
