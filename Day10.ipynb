{
 "cells": [
  {
   "cell_type": "code",
   "execution_count": 1,
   "id": "03f06bcb-8778-4442-81e9-d651e730ee02",
   "metadata": {},
   "outputs": [],
   "source": [
    "import numpy as np"
   ]
  },
  {
   "cell_type": "code",
   "execution_count": 2,
   "id": "54a5541d-a0c7-4918-8fde-1d5f26af6e95",
   "metadata": {},
   "outputs": [],
   "source": [
    "h=[30,20,5,8,9]"
   ]
  },
  {
   "cell_type": "code",
   "execution_count": 3,
   "id": "59ebac44-f0fd-4b5e-8b50-d50893923eb1",
   "metadata": {},
   "outputs": [
    {
     "data": {
      "text/plain": [
       "[30, 20, 5, 8, 9]"
      ]
     },
     "execution_count": 3,
     "metadata": {},
     "output_type": "execute_result"
    }
   ],
   "source": [
    "h"
   ]
  },
  {
   "cell_type": "code",
   "execution_count": 5,
   "id": "eb7adb83-38ad-4e8c-aa04-55500a8dbb70",
   "metadata": {},
   "outputs": [
    {
     "data": {
      "text/plain": [
       "array([18, 20, 18, 18, 18, 19, 20, 20, 19, 20, 18, 18, 20, 18, 20, 20, 18,\n",
       "       20, 20, 18, 18, 19, 19, 19, 19, 18, 18, 20, 20, 20, 20, 18, 18, 18,\n",
       "       18, 18, 18, 19, 19, 20, 20, 19, 18, 20, 18, 20, 20, 20, 19, 19, 19,\n",
       "       18, 20, 19, 19, 20, 20, 18, 19, 20, 19, 20, 18, 19, 19, 19, 18, 19,\n",
       "       19, 20, 19, 19, 18, 20, 19, 18, 19, 19, 19, 18, 20, 18, 18, 19, 18,\n",
       "       19, 18, 18, 19, 20, 19, 18, 18, 18, 19, 18, 20, 19, 18, 20, 18, 20,\n",
       "       19, 20, 19, 19, 20, 19, 20, 20, 20, 20, 19, 18, 18, 18, 20, 19, 20,\n",
       "       18, 19, 19, 19, 18, 18, 20, 20, 19, 20, 19, 19, 18, 19, 20, 18, 19,\n",
       "       19, 19, 19, 20, 18, 19, 20, 19, 20, 18, 20, 18, 18, 18, 19, 20, 20,\n",
       "       19, 18, 18, 18, 18, 20, 20, 19, 18, 18, 19, 18, 20, 19, 18, 18, 20,\n",
       "       19, 19, 18, 19, 18, 20, 18, 19, 19, 18, 18, 20, 19, 20, 20, 20, 20,\n",
       "       19, 19, 18, 19, 20, 18, 20, 19, 20, 18, 20, 18, 19, 20, 18, 19, 19,\n",
       "       19, 19, 19, 18, 20, 18, 20, 20, 18, 20, 19, 18, 19, 20, 18, 19, 19,\n",
       "       20, 19, 20, 20, 20, 18, 18, 20, 19, 19, 20, 18, 20, 18, 19, 18, 20,\n",
       "       19, 20, 20, 18, 19, 19, 20, 19, 19, 19, 20, 18, 18, 19, 18, 19, 19,\n",
       "       19, 20, 19, 20, 20, 19, 18, 20, 19, 19, 20, 19, 18, 18, 19, 18, 18,\n",
       "       20, 20, 19, 20, 19, 20, 18, 20, 19, 19, 20, 18, 18, 18, 20, 19, 20,\n",
       "       20, 20, 20, 19, 19, 19, 19, 18, 18, 19, 20, 18, 19, 18, 18, 18, 18,\n",
       "       19, 20, 20, 20, 20, 20, 19, 18, 18, 18, 20, 20, 18, 19, 19, 20, 20,\n",
       "       20, 18, 18, 18, 20, 18, 20, 19, 20, 19, 18, 20, 18, 20, 18, 20, 20,\n",
       "       19, 18, 20, 18, 20, 19, 18, 19, 20, 19, 19, 18, 19, 18, 20, 18, 19,\n",
       "       20, 19, 19, 19, 20, 18, 19, 18, 19, 19, 19, 19, 20, 18, 18, 19, 18,\n",
       "       19, 20, 18, 19, 18, 18, 18, 20, 20, 19, 19, 18, 19, 18, 20, 20, 20,\n",
       "       18, 20, 18, 19, 18, 18, 19, 19, 20, 19, 19, 20, 20, 19, 18, 20, 19,\n",
       "       18, 19, 18, 20, 20, 19, 20, 20, 20, 20, 19, 20, 18, 20, 19, 20, 20,\n",
       "       18, 19, 20, 18, 20, 20, 19, 19, 20, 19, 18, 19, 19, 18, 20, 19, 20,\n",
       "       19, 18, 20, 19, 19, 19, 18, 19, 18, 20, 19, 18, 20, 18, 19, 18, 19,\n",
       "       19, 20, 20, 20, 20, 19, 20, 19, 19, 19, 19, 20, 20, 19, 19, 20, 20,\n",
       "       20, 20, 18, 20, 18, 19, 19, 19, 18, 19, 20, 19, 18, 20, 20, 19, 18,\n",
       "       19, 18, 18, 18, 19, 19, 19])"
      ]
     },
     "execution_count": 5,
     "metadata": {},
     "output_type": "execute_result"
    }
   ],
   "source": [
    "np.random.randint(18,21,500)"
   ]
  },
  {
   "cell_type": "code",
   "execution_count": 6,
   "id": "45115f10-476a-4ed8-b231-521190e32521",
   "metadata": {},
   "outputs": [
    {
     "data": {
      "text/plain": [
       "(6, 2, 3, 9, 7, 5, 8)"
      ]
     },
     "execution_count": 6,
     "metadata": {},
     "output_type": "execute_result"
    }
   ],
   "source": [
    "s=(6,2,3,9,7,5,8)\n",
    "s"
   ]
  },
  {
   "cell_type": "code",
   "execution_count": 7,
   "id": "80800e8f-5b97-4682-9374-41b5adfbbb13",
   "metadata": {},
   "outputs": [
    {
     "data": {
      "text/plain": [
       "(36, 4, 9, 81, 49, 25, 64)"
      ]
     },
     "execution_count": 7,
     "metadata": {},
     "output_type": "execute_result"
    }
   ],
   "source": [
    "tuple(x**2 for x in s)"
   ]
  },
  {
   "cell_type": "code",
   "execution_count": 8,
   "id": "72d2fa46-2829-4c2c-a174-223988abdcfb",
   "metadata": {},
   "outputs": [
    {
     "data": {
      "text/plain": [
       "(36, 4, 9, 81, 49, 25, 64)"
      ]
     },
     "execution_count": 8,
     "metadata": {},
     "output_type": "execute_result"
    }
   ],
   "source": [
    "y=list(s)\n",
    "k=[]\n",
    "for i in y:\n",
    "    k.append(i**2)\n",
    "s=tuple(k)\n",
    "s"
   ]
  },
  {
   "cell_type": "code",
   "execution_count": 9,
   "id": "12e404a3-d1b2-4c94-ac33-772e3dddd85b",
   "metadata": {},
   "outputs": [],
   "source": [
    "m=[]\n",
    "for i in s:\n",
    "    if i>30:\n",
    "        m.append(i)"
   ]
  },
  {
   "cell_type": "code",
   "execution_count": 10,
   "id": "99bb77b7-0504-4c11-951f-ee0e0e79217f",
   "metadata": {},
   "outputs": [],
   "source": [
    "arr=np.array([20,50,30,70,80,40,36,54,23,9])"
   ]
  },
  {
   "cell_type": "code",
   "execution_count": 11,
   "id": "91e77ac2-ba0c-46ad-8201-e8f0beb23e45",
   "metadata": {},
   "outputs": [
    {
     "data": {
      "text/plain": [
       "array([20, 50, 30, 70, 80, 40, 36, 54, 23,  9])"
      ]
     },
     "execution_count": 11,
     "metadata": {},
     "output_type": "execute_result"
    }
   ],
   "source": [
    "arr"
   ]
  },
  {
   "cell_type": "code",
   "execution_count": 12,
   "id": "b3eb9108-f806-4e58-b585-5de24d58b4bc",
   "metadata": {},
   "outputs": [
    {
     "data": {
      "text/plain": [
       "array([25, 55, 35, 75, 85, 45, 41, 59, 28, 14])"
      ]
     },
     "execution_count": 12,
     "metadata": {},
     "output_type": "execute_result"
    }
   ],
   "source": [
    "arr+5"
   ]
  },
  {
   "cell_type": "code",
   "execution_count": 13,
   "id": "984bcec2-0061-4742-a733-61f5a6848014",
   "metadata": {},
   "outputs": [
    {
     "data": {
      "text/plain": [
       "array([ 400, 2500,  900, 4900, 6400, 1600, 1296, 2916,  529,   81])"
      ]
     },
     "execution_count": 13,
     "metadata": {},
     "output_type": "execute_result"
    }
   ],
   "source": [
    "arr**2"
   ]
  },
  {
   "cell_type": "code",
   "execution_count": 14,
   "id": "37ef5ecf-e188-4319-a7b9-b20cdf957ad3",
   "metadata": {},
   "outputs": [
    {
     "data": {
      "text/plain": [
       "array([70, 80, 54])"
      ]
     },
     "execution_count": 14,
     "metadata": {},
     "output_type": "execute_result"
    }
   ],
   "source": [
    "arr[arr>50]\n",
    "\n"
   ]
  },
  {
   "cell_type": "code",
   "execution_count": null,
   "id": "626bcbe2-306d-456f-bf3d-c2b85c2b7b28",
   "metadata": {},
   "outputs": [],
   "source": []
  }
 ],
 "metadata": {
  "kernelspec": {
   "display_name": "Python 3 (ipykernel)",
   "language": "python",
   "name": "python3"
  },
  "language_info": {
   "codemirror_mode": {
    "name": "ipython",
    "version": 3
   },
   "file_extension": ".py",
   "mimetype": "text/x-python",
   "name": "python",
   "nbconvert_exporter": "python",
   "pygments_lexer": "ipython3",
   "version": "3.12.7"
  }
 },
 "nbformat": 4,
 "nbformat_minor": 5
}
